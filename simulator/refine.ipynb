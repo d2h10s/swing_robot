{
 "cells": [
  {
   "cell_type": "code",
   "execution_count": 12,
   "metadata": {},
   "outputs": [],
   "source": [
    "import numpy as np\n",
    "rewards = []\n",
    "with open('./logs/Acrobot-v2_0824_15-50-01_r1/episode-reward-loss-freq-sigma.txt', 'r') as f:\n",
    "    lines = f.readlines()\n",
    "    for line in lines:\n",
    "        rewards.append(float(line.split()[1]))"
   ]
  },
  {
   "cell_type": "code",
   "execution_count": 13,
   "metadata": {},
   "outputs": [
    {
     "name": "stdout",
     "output_type": "stream",
     "text": [
      "732.422550772496\n",
      "3127.783395909076\n"
     ]
    }
   ],
   "source": [
    "nrewards = np.array(rewards)\n",
    "mean = np.average(nrewards)\n",
    "print(mean)\n",
    "var = sum((nrewards-mean)**2)/(len(nrewards)-1)\n",
    "print(var)"
   ]
  },
  {
   "cell_type": "code",
   "execution_count": 14,
   "metadata": {},
   "outputs": [],
   "source": [
    "import numpy as np\n",
    "rewards = []\n",
    "with open('./logs/Acrobot-v2_0825_10-34-08_r2/episode-reward-loss-freq-sigma.txt', 'r') as f:\n",
    "    lines = f.readlines()\n",
    "    for line in lines:\n",
    "        rewards.append(float(line.split()[1]))"
   ]
  },
  {
   "cell_type": "code",
   "execution_count": 15,
   "metadata": {},
   "outputs": [
    {
     "name": "stdout",
     "output_type": "stream",
     "text": [
      "22032.134930083193\n",
      "19258448405.871902\n"
     ]
    }
   ],
   "source": [
    "nrewards = np.array(rewards)\n",
    "mean = np.average(nrewards)\n",
    "print(mean)\n",
    "var = sum((nrewards-mean)**2)/(len(nrewards)-1)\n",
    "print(var)"
   ]
  }
 ],
 "metadata": {
  "interpreter": {
   "hash": "fbe9ae676d86901d10fd5e7e014cd1cd1045b008a53217607793692e0b846797"
  },
  "kernelspec": {
   "display_name": "Python 3.8.8 64-bit ('ML38': conda)",
   "name": "python3"
  },
  "language_info": {
   "codemirror_mode": {
    "name": "ipython",
    "version": 3
   },
   "file_extension": ".py",
   "mimetype": "text/x-python",
   "name": "python",
   "nbconvert_exporter": "python",
   "pygments_lexer": "ipython3",
   "version": "3.8.8"
  },
  "orig_nbformat": 4
 },
 "nbformat": 4,
 "nbformat_minor": 2
}